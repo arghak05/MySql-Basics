{
 "cells": [
  {
   "cell_type": "code",
   "execution_count": 1,
   "id": "da0429ca",
   "metadata": {},
   "outputs": [
    {
     "name": "stdout",
     "output_type": "stream",
     "text": [
      "Requirement already satisfied: mysql-connector-python in c:\\users\\argha\\anaconda3\\lib\\site-packages (8.0.29)\n",
      "Requirement already satisfied: protobuf>=3.0.0 in c:\\users\\argha\\anaconda3\\lib\\site-packages (from mysql-connector-python) (3.19.1)\n"
     ]
    }
   ],
   "source": [
    "!pip install mysql-connector-python"
   ]
  },
  {
   "cell_type": "code",
   "execution_count": 2,
   "id": "8b8773ac",
   "metadata": {},
   "outputs": [],
   "source": [
    "# Create mysql connection\n",
    "import mysql.connector as sql"
   ]
  },
  {
   "cell_type": "code",
   "execution_count": 3,
   "id": "28bf8cbb",
   "metadata": {},
   "outputs": [
    {
     "name": "stdout",
     "output_type": "stream",
     "text": [
      "<mysql.connector.connection_cext.CMySQLConnection object at 0x0000015F74777B80>\n"
     ]
    }
   ],
   "source": [
    "connection = sql.connect(\n",
    "    host=\"localhost\",\n",
    "    user=\"root\",\n",
    "    password=\"admin\"\n",
    ")\n",
    "\n",
    "print(connection)"
   ]
  },
  {
   "cell_type": "code",
   "execution_count": 4,
   "id": "e629a273",
   "metadata": {},
   "outputs": [],
   "source": [
    "cursor = connection.cursor()"
   ]
  },
  {
   "cell_type": "code",
   "execution_count": 5,
   "id": "fcfecabf",
   "metadata": {},
   "outputs": [],
   "source": [
    "cursor.execute('CREATE DATABASE student1')"
   ]
  },
  {
   "cell_type": "code",
   "execution_count": 6,
   "id": "acab71af",
   "metadata": {},
   "outputs": [],
   "source": [
    "cursor.execute('SHOW DATABASES')"
   ]
  },
  {
   "cell_type": "code",
   "execution_count": 7,
   "id": "845a7280",
   "metadata": {},
   "outputs": [
    {
     "name": "stdout",
     "output_type": "stream",
     "text": [
      "('company',)\n",
      "('customer',)\n",
      "('information_schema',)\n",
      "('mysql',)\n",
      "('performance_schema',)\n",
      "('sakila',)\n",
      "('student1',)\n",
      "('sys',)\n",
      "('world',)\n"
     ]
    }
   ],
   "source": [
    "for database in cursor:\n",
    "    print(database)"
   ]
  },
  {
   "cell_type": "markdown",
   "id": "0b89eb4c",
   "metadata": {},
   "source": [
    "# Execute and drop some databases and check"
   ]
  },
  {
   "cell_type": "markdown",
   "id": "c06178e5",
   "metadata": {},
   "source": [
    "## Create db"
   ]
  },
  {
   "cell_type": "code",
   "execution_count": 8,
   "id": "571ddc86",
   "metadata": {},
   "outputs": [],
   "source": [
    "cursor.execute('CREATE DATABASE computer')"
   ]
  },
  {
   "cell_type": "code",
   "execution_count": 9,
   "id": "47c18a26",
   "metadata": {},
   "outputs": [],
   "source": [
    "cursor.execute('CREATE DATABASE school')"
   ]
  },
  {
   "cell_type": "code",
   "execution_count": 10,
   "id": "73809698",
   "metadata": {},
   "outputs": [],
   "source": [
    "cursor.execute('CREATE DATABASE college')"
   ]
  },
  {
   "cell_type": "code",
   "execution_count": 11,
   "id": "a25451cd",
   "metadata": {},
   "outputs": [],
   "source": [
    "cursor.execute('SHOW DATABASES')"
   ]
  },
  {
   "cell_type": "code",
   "execution_count": 12,
   "id": "e8a0b055",
   "metadata": {},
   "outputs": [
    {
     "name": "stdout",
     "output_type": "stream",
     "text": [
      "('college',)\n",
      "('company',)\n",
      "('computer',)\n",
      "('customer',)\n",
      "('information_schema',)\n",
      "('mysql',)\n",
      "('performance_schema',)\n",
      "('sakila',)\n",
      "('school',)\n",
      "('student1',)\n",
      "('sys',)\n",
      "('world',)\n"
     ]
    }
   ],
   "source": [
    "for db in cursor:\n",
    "    print(db)"
   ]
  },
  {
   "cell_type": "markdown",
   "id": "3490fa86",
   "metadata": {},
   "source": [
    "## Drop db"
   ]
  },
  {
   "cell_type": "code",
   "execution_count": 14,
   "id": "184763d3",
   "metadata": {},
   "outputs": [],
   "source": [
    "cursor.execute('DROP DATABASE computer')\n",
    "cursor.execute('DROP DATABASE school')\n",
    "cursor.execute('DROP DATABASE college')"
   ]
  },
  {
   "cell_type": "code",
   "execution_count": 16,
   "id": "ead63f00",
   "metadata": {},
   "outputs": [],
   "source": [
    "cursor.execute('SHOW DATABASES')"
   ]
  },
  {
   "cell_type": "code",
   "execution_count": 17,
   "id": "15fa2811",
   "metadata": {},
   "outputs": [
    {
     "name": "stdout",
     "output_type": "stream",
     "text": [
      "('company',)\n",
      "('customer',)\n",
      "('information_schema',)\n",
      "('mysql',)\n",
      "('performance_schema',)\n",
      "('sakila',)\n",
      "('student1',)\n",
      "('sys',)\n",
      "('world',)\n"
     ]
    }
   ],
   "source": [
    "for db in cursor:\n",
    "    print(db)"
   ]
  },
  {
   "cell_type": "code",
   "execution_count": null,
   "id": "5cc68552",
   "metadata": {},
   "outputs": [],
   "source": []
  }
 ],
 "metadata": {
  "kernelspec": {
   "display_name": "Python 3 (ipykernel)",
   "language": "python",
   "name": "python3"
  },
  "language_info": {
   "codemirror_mode": {
    "name": "ipython",
    "version": 3
   },
   "file_extension": ".py",
   "mimetype": "text/x-python",
   "name": "python",
   "nbconvert_exporter": "python",
   "pygments_lexer": "ipython3",
   "version": "3.9.12"
  }
 },
 "nbformat": 4,
 "nbformat_minor": 5
}
